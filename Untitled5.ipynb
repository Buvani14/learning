{
 "cells": [
  {
   "cell_type": "code",
   "execution_count": 4,
   "id": "9a2f71cd",
   "metadata": {},
   "outputs": [
    {
     "name": "stdout",
     "output_type": "stream",
     "text": [
      "enter total seat capacity20\n",
      "your journey is not confirmed😑\n",
      "only 1tickets booked\n",
      "50% of the tickets filled.the journey conformed😍\n",
      "your journey is not confirmed😑\n",
      "only 2tickets booked\n",
      "50% of the tickets filled.the journey conformed😍\n",
      "your journey is not confirmed😑\n",
      "only 3tickets booked\n",
      "50% of the tickets filled.the journey conformed😍\n",
      "your journey is not confirmed😑\n",
      "only 4tickets booked\n",
      "50% of the tickets filled.the journey conformed😍\n",
      "your journey is not confirmed😑\n",
      "only 5tickets booked\n",
      "50% of the tickets filled.the journey conformed😍\n",
      "your journey is not confirmed😑\n",
      "only 6tickets booked\n",
      "50% of the tickets filled.the journey conformed😍\n",
      "your journey is not confirmed😑\n",
      "only 7tickets booked\n",
      "50% of the tickets filled.the journey conformed😍\n",
      "your journey is not confirmed😑\n",
      "only 8tickets booked\n",
      "50% of the tickets filled.the journey conformed😍\n",
      "your journey is not confirmed😑\n",
      "only 9tickets booked\n",
      "50% of the tickets filled.the journey conformed😍\n",
      "your journey is not confirmed😑\n",
      "only 10tickets booked\n",
      "50% of the tickets filled.the journey conformed😍\n"
     ]
    }
   ],
   "source": [
    "TCS=int(input(\"enter total seat capacity\"))\n",
    "counter=1\n",
    "while counter<=TCS/2:\n",
    "    print(f\"your journey is not confirmed😑\")\n",
    "    print(f\"only {counter}tickets booked\")\n",
    "    counter+=1\n",
    "    print(\"50% of the tickets filled.the journey conformed😍\")"
   ]
  },
  {
   "cell_type": "code",
   "execution_count": null,
   "id": "a6bfbf04",
   "metadata": {},
   "outputs": [],
   "source": []
  }
 ],
 "metadata": {
  "kernelspec": {
   "display_name": "Python 3 (ipykernel)",
   "language": "python",
   "name": "python3"
  },
  "language_info": {
   "codemirror_mode": {
    "name": "ipython",
    "version": 3
   },
   "file_extension": ".py",
   "mimetype": "text/x-python",
   "name": "python",
   "nbconvert_exporter": "python",
   "pygments_lexer": "ipython3",
   "version": "3.10.8"
  }
 },
 "nbformat": 4,
 "nbformat_minor": 5
}
