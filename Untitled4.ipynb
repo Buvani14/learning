{
 "cells": [
  {
   "cell_type": "code",
   "execution_count": null,
   "id": "d27f70d3",
   "metadata": {},
   "outputs": [],
   "source": []
  },
  {
   "cell_type": "code",
   "execution_count": null,
   "id": "3a737832",
   "metadata": {},
   "outputs": [],
   "source": [
    "TCS=int(input(\"enter total seat capacity\"))\n",
    "counter=1\n",
    "while counter<=TCS/2:\n",
    "    print(f\"your journey is not confirmed\")\n",
    "    print(f\"only {counter}tickets booked\")\n",
    "    counter+=1\n",
    "    print(\"50% of the tickets filled.the journey conformed\")"
   ]
  },
  {
   "cell_type": "code",
   "execution_count": null,
   "id": "70cdd7b5",
   "metadata": {},
   "outputs": [],
   "source": []
  },
  {
   "cell_type": "code",
   "execution_count": null,
   "id": "c0f1c097",
   "metadata": {},
   "outputs": [],
   "source": []
  },
  {
   "cell_type": "code",
   "execution_count": null,
   "id": "c3f7153c",
   "metadata": {},
   "outputs": [],
   "source": []
  },
  {
   "cell_type": "code",
   "execution_count": null,
   "id": "18192094",
   "metadata": {},
   "outputs": [],
   "source": []
  }
 ],
 "metadata": {
  "kernelspec": {
   "display_name": "Python 3 (ipykernel)",
   "language": "python",
   "name": "python3"
  },
  "language_info": {
   "codemirror_mode": {
    "name": "ipython",
    "version": 3
   },
   "file_extension": ".py",
   "mimetype": "text/x-python",
   "name": "python",
   "nbconvert_exporter": "python",
   "pygments_lexer": "ipython3",
   "version": "3.10.8"
  }
 },
 "nbformat": 4,
 "nbformat_minor": 5
}
