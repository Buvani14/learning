{
 "cells": [
  {
   "cell_type": "code",
   "execution_count": null,
   "id": "d3bdac08",
   "metadata": {},
   "outputs": [],
   "source": [
    "import numpy"
   ]
  },
  {
   "cell_type": "code",
   "execution_count": null,
   "id": "b6207521",
   "metadata": {},
   "outputs": [],
   "source": [
    "pip install numpy"
   ]
  },
  {
   "cell_type": "code",
   "execution_count": 1,
   "id": "b1067b16",
   "metadata": {},
   "outputs": [],
   "source": [
    "import numpy"
   ]
  },
  {
   "cell_type": "code",
   "execution_count": 3,
   "id": "93ce5800",
   "metadata": {},
   "outputs": [],
   "source": [
    "import numpy as li"
   ]
  },
  {
   "cell_type": "code",
   "execution_count": 38,
   "id": "9937d7ce",
   "metadata": {},
   "outputs": [],
   "source": [
    "a=li.array([(2,4,6,8),(1,3,7,9),(9,8,7,6)])"
   ]
  },
  {
   "cell_type": "code",
   "execution_count": 39,
   "id": "adb360a3",
   "metadata": {},
   "outputs": [
    {
     "name": "stdout",
     "output_type": "stream",
     "text": [
      "[[2 4 6 8]\n",
      " [1 3 7 9]\n",
      " [9 8 7 6]]\n"
     ]
    }
   ],
   "source": [
    "print(a)"
   ]
  },
  {
   "cell_type": "code",
   "execution_count": 40,
   "id": "771269e0",
   "metadata": {},
   "outputs": [],
   "source": [
    "trans=li.transpose(a)"
   ]
  },
  {
   "cell_type": "code",
   "execution_count": 41,
   "id": "ccdc3f9f",
   "metadata": {},
   "outputs": [
    {
     "name": "stdout",
     "output_type": "stream",
     "text": [
      "[[2 1 9]\n",
      " [4 3 8]\n",
      " [6 7 7]\n",
      " [8 9 6]]\n"
     ]
    }
   ],
   "source": [
    "print(trans)"
   ]
  },
  {
   "cell_type": "code",
   "execution_count": 42,
   "id": "c04c4bbf",
   "metadata": {},
   "outputs": [],
   "source": [
    "trans=li.ravel(a)"
   ]
  },
  {
   "cell_type": "code",
   "execution_count": 44,
   "id": "2d673a71",
   "metadata": {},
   "outputs": [
    {
     "name": "stdout",
     "output_type": "stream",
     "text": [
      "[2 4 6 8 1 3 7 9 9 8 7 6]\n"
     ]
    }
   ],
   "source": [
    "print(trans)"
   ]
  },
  {
   "cell_type": "code",
   "execution_count": 46,
   "id": "c652e0c3",
   "metadata": {},
   "outputs": [
    {
     "data": {
      "text/plain": [
       "array([[2, 4, 6, 8, 1, 3, 7, 9, 9, 8, 7, 6]])"
      ]
     },
     "execution_count": 46,
     "metadata": {},
     "output_type": "execute_result"
    }
   ],
   "source": [
    "a.reshape(1,12)"
   ]
  },
  {
   "cell_type": "code",
   "execution_count": 47,
   "id": "54e36745",
   "metadata": {},
   "outputs": [
    {
     "data": {
      "text/plain": [
       "array([[2],\n",
       "       [4],\n",
       "       [6],\n",
       "       [8],\n",
       "       [1],\n",
       "       [3],\n",
       "       [7],\n",
       "       [9],\n",
       "       [9],\n",
       "       [8],\n",
       "       [7],\n",
       "       [6]])"
      ]
     },
     "execution_count": 47,
     "metadata": {},
     "output_type": "execute_result"
    }
   ],
   "source": [
    "a.reshape(12,1)"
   ]
  },
  {
   "cell_type": "code",
   "execution_count": 56,
   "id": "df581e97",
   "metadata": {},
   "outputs": [],
   "source": [
    "a=li.zeros((5,14))"
   ]
  },
  {
   "cell_type": "code",
   "execution_count": 57,
   "id": "73df3f86",
   "metadata": {},
   "outputs": [
    {
     "name": "stdout",
     "output_type": "stream",
     "text": [
      "[[0. 0. 0. 0. 0. 0. 0. 0. 0. 0. 0. 0. 0. 0.]\n",
      " [0. 0. 0. 0. 0. 0. 0. 0. 0. 0. 0. 0. 0. 0.]\n",
      " [0. 0. 0. 0. 0. 0. 0. 0. 0. 0. 0. 0. 0. 0.]\n",
      " [0. 0. 0. 0. 0. 0. 0. 0. 0. 0. 0. 0. 0. 0.]\n",
      " [0. 0. 0. 0. 0. 0. 0. 0. 0. 0. 0. 0. 0. 0.]]\n"
     ]
    }
   ],
   "source": [
    "print(a)"
   ]
  },
  {
   "cell_type": "code",
   "execution_count": 58,
   "id": "c2e6ad0b",
   "metadata": {},
   "outputs": [
    {
     "data": {
      "text/plain": [
       "array([[0.54882952, 0.27290566, 0.29039347, 0.01313437, 0.33252554],\n",
       "       [0.84682732, 0.84111415, 0.11519678, 0.49193272, 0.87934962],\n",
       "       [0.29273377, 0.7702487 , 0.86852617, 0.7842648 , 0.53035222],\n",
       "       [0.2461386 , 0.53147455, 0.85664937, 0.78425242, 0.19783464],\n",
       "       [0.24445726, 0.30018515, 0.43888801, 0.67321067, 0.47276148]])"
      ]
     },
     "execution_count": 58,
     "metadata": {},
     "output_type": "execute_result"
    }
   ],
   "source": [
    "li.random.random((5,5))"
   ]
  },
  {
   "cell_type": "code",
   "execution_count": null,
   "id": "a9cfb8fb",
   "metadata": {},
   "outputs": [],
   "source": []
  }
 ],
 "metadata": {
  "kernelspec": {
   "display_name": "Python 3 (ipykernel)",
   "language": "python",
   "name": "python3"
  },
  "language_info": {
   "codemirror_mode": {
    "name": "ipython",
    "version": 3
   },
   "file_extension": ".py",
   "mimetype": "text/x-python",
   "name": "python",
   "nbconvert_exporter": "python",
   "pygments_lexer": "ipython3",
   "version": "3.10.8"
  }
 },
 "nbformat": 4,
 "nbformat_minor": 5
}
