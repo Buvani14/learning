{
 "cells": [
  {
   "cell_type": "code",
   "execution_count": 2,
   "id": "6bd13ef0",
   "metadata": {},
   "outputs": [],
   "source": [
    "var1=range(1,10)"
   ]
  },
  {
   "cell_type": "code",
   "execution_count": 3,
   "id": "e447de54",
   "metadata": {},
   "outputs": [
    {
     "name": "stdout",
     "output_type": "stream",
     "text": [
      "range(1, 10)\n"
     ]
    }
   ],
   "source": [
    "print(var1)"
   ]
  },
  {
   "cell_type": "code",
   "execution_count": 4,
   "id": "76b7c325",
   "metadata": {},
   "outputs": [
    {
     "name": "stdout",
     "output_type": "stream",
     "text": [
      "[1, 2, 3, 4, 5, 6, 7, 8, 9]\n"
     ]
    }
   ],
   "source": [
    "print(list(var1))"
   ]
  },
  {
   "cell_type": "code",
   "execution_count": 7,
   "id": "c25f8517",
   "metadata": {},
   "outputs": [],
   "source": [
    "var2={1:\"buvani\",2:\"MCA\",3:\"Thanjavur\"}"
   ]
  },
  {
   "cell_type": "code",
   "execution_count": 9,
   "id": "b344d093",
   "metadata": {},
   "outputs": [
    {
     "data": {
      "text/plain": [
       "dict"
      ]
     },
     "execution_count": 9,
     "metadata": {},
     "output_type": "execute_result"
    }
   ],
   "source": [
    "type(var2)"
   ]
  },
  {
   "cell_type": "code",
   "execution_count": 10,
   "id": "573de649",
   "metadata": {},
   "outputs": [
    {
     "data": {
      "text/plain": [
       "'buvani'"
      ]
     },
     "execution_count": 10,
     "metadata": {},
     "output_type": "execute_result"
    }
   ],
   "source": [
    "var2[1]"
   ]
  },
  {
   "cell_type": "code",
   "execution_count": 11,
   "id": "1dddc40e",
   "metadata": {},
   "outputs": [
    {
     "data": {
      "text/plain": [
       "'MCA'"
      ]
     },
     "execution_count": 11,
     "metadata": {},
     "output_type": "execute_result"
    }
   ],
   "source": [
    "var2[2]"
   ]
  },
  {
   "cell_type": "code",
   "execution_count": 12,
   "id": "6c90c295",
   "metadata": {},
   "outputs": [
    {
     "data": {
      "text/plain": [
       "'Thanjavur'"
      ]
     },
     "execution_count": 12,
     "metadata": {},
     "output_type": "execute_result"
    }
   ],
   "source": [
    "var2[3]"
   ]
  },
  {
   "cell_type": "code",
   "execution_count": null,
   "id": "2b5602ff",
   "metadata": {},
   "outputs": [],
   "source": []
  }
 ],
 "metadata": {
  "kernelspec": {
   "display_name": "Python 3 (ipykernel)",
   "language": "python",
   "name": "python3"
  },
  "language_info": {
   "codemirror_mode": {
    "name": "ipython",
    "version": 3
   },
   "file_extension": ".py",
   "mimetype": "text/x-python",
   "name": "python",
   "nbconvert_exporter": "python",
   "pygments_lexer": "ipython3",
   "version": "3.10.8"
  }
 },
 "nbformat": 4,
 "nbformat_minor": 5
}
