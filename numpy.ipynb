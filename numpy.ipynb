{
 "cells": [
  {
   "cell_type": "code",
   "execution_count": null,
   "id": "e7aac90e",
   "metadata": {},
   "outputs": [],
   "source": [
    "import numpy"
   ]
  },
  {
   "cell_type": "code",
   "execution_count": null,
   "id": "7fb4a657",
   "metadata": {},
   "outputs": [],
   "source": [
    "pip install numpy"
   ]
  },
  {
   "cell_type": "code",
   "execution_count": 1,
   "id": "762f6584",
   "metadata": {},
   "outputs": [],
   "source": [
    "import numpy"
   ]
  },
  {
   "cell_type": "code",
   "execution_count": 3,
   "id": "eec90e41",
   "metadata": {},
   "outputs": [],
   "source": [
    "import numpy as li"
   ]
  },
  {
   "cell_type": "code",
   "execution_count": 38,
   "id": "5599af7c",
   "metadata": {},
   "outputs": [],
   "source": [
    "a=li.array([(2,4,6,8),(1,3,7,9),(9,8,7,6)])"
   ]
  },
  {
   "cell_type": "code",
   "execution_count": 39,
   "id": "4a385b31",
   "metadata": {},
   "outputs": [
    {
     "name": "stdout",
     "output_type": "stream",
     "text": [
      "[[2 4 6 8]\n",
      " [1 3 7 9]\n",
      " [9 8 7 6]]\n"
     ]
    }
   ],
   "source": [
    "print(a)"
   ]
  },
  {
   "cell_type": "code",
   "execution_count": 40,
   "id": "a0fc3ce6",
   "metadata": {},
   "outputs": [],
   "source": [
    "trans=li.transpose(a)"
   ]
  },
  {
   "cell_type": "code",
   "execution_count": 41,
   "id": "47bcb617",
   "metadata": {},
   "outputs": [
    {
     "name": "stdout",
     "output_type": "stream",
     "text": [
      "[[2 1 9]\n",
      " [4 3 8]\n",
      " [6 7 7]\n",
      " [8 9 6]]\n"
     ]
    }
   ],
   "source": [
    "print(trans)"
   ]
  },
  {
   "cell_type": "code",
   "execution_count": 42,
   "id": "ca5d499f",
   "metadata": {},
   "outputs": [],
   "source": [
    "trans=li.ravel(a)"
   ]
  },
  {
   "cell_type": "code",
   "execution_count": 44,
   "id": "0e1d038c",
   "metadata": {},
   "outputs": [
    {
     "name": "stdout",
     "output_type": "stream",
     "text": [
      "[2 4 6 8 1 3 7 9 9 8 7 6]\n"
     ]
    }
   ],
   "source": [
    "print(trans)"
   ]
  },
  {
   "cell_type": "code",
   "execution_count": 46,
   "id": "9e9b36c5",
   "metadata": {},
   "outputs": [
    {
     "data": {
      "text/plain": [
       "array([[2, 4, 6, 8, 1, 3, 7, 9, 9, 8, 7, 6]])"
      ]
     },
     "execution_count": 46,
     "metadata": {},
     "output_type": "execute_result"
    }
   ],
   "source": [
    "a.reshape(1,12)"
   ]
  },
  {
   "cell_type": "code",
   "execution_count": 47,
   "id": "c7957a8a",
   "metadata": {},
   "outputs": [
    {
     "data": {
      "text/plain": [
       "array([[2],\n",
       "       [4],\n",
       "       [6],\n",
       "       [8],\n",
       "       [1],\n",
       "       [3],\n",
       "       [7],\n",
       "       [9],\n",
       "       [9],\n",
       "       [8],\n",
       "       [7],\n",
       "       [6]])"
      ]
     },
     "execution_count": 47,
     "metadata": {},
     "output_type": "execute_result"
    }
   ],
   "source": [
    "a.reshape(12,1)"
   ]
  },
  {
   "cell_type": "code",
   "execution_count": 56,
   "id": "a0862a91",
   "metadata": {},
   "outputs": [],
   "source": [
    "a=li.zeros((5,14))"
   ]
  },
  {
   "cell_type": "code",
   "execution_count": 57,
   "id": "50e44804",
   "metadata": {},
   "outputs": [
    {
     "name": "stdout",
     "output_type": "stream",
     "text": [
      "[[0. 0. 0. 0. 0. 0. 0. 0. 0. 0. 0. 0. 0. 0.]\n",
      " [0. 0. 0. 0. 0. 0. 0. 0. 0. 0. 0. 0. 0. 0.]\n",
      " [0. 0. 0. 0. 0. 0. 0. 0. 0. 0. 0. 0. 0. 0.]\n",
      " [0. 0. 0. 0. 0. 0. 0. 0. 0. 0. 0. 0. 0. 0.]\n",
      " [0. 0. 0. 0. 0. 0. 0. 0. 0. 0. 0. 0. 0. 0.]]\n"
     ]
    }
   ],
   "source": [
    "print(a)"
   ]
  },
  {
   "cell_type": "code",
   "execution_count": 59,
   "id": "f6011392",
   "metadata": {},
   "outputs": [
    {
     "data": {
      "text/plain": [
       "array([[0.769167  , 0.25194894, 0.04847575, 0.8756312 , 0.11616647,\n",
       "        0.62035987, 0.62485812],\n",
       "       [0.96149407, 0.96056859, 0.77476983, 0.62175578, 0.50552304,\n",
       "        0.95367088, 0.83788587],\n",
       "       [0.88906331, 0.05893751, 0.82770977, 0.39505143, 0.1206891 ,\n",
       "        0.84386562, 0.84999306],\n",
       "       [0.98016198, 0.20100572, 0.87398394, 0.82725421, 0.00534254,\n",
       "        0.25296012, 0.16310523],\n",
       "       [0.05251298, 0.36236146, 0.00148179, 0.1753585 , 0.59742305,\n",
       "        0.88701346, 0.9254943 ],\n",
       "       [0.53668057, 0.546522  , 0.47992219, 0.15528062, 0.93050357,\n",
       "        0.9054312 , 0.03862773],\n",
       "       [0.30548342, 0.33553037, 0.2134845 , 0.46783371, 0.65578679,\n",
       "        0.54188082, 0.61972047]])"
      ]
     },
     "execution_count": 59,
     "metadata": {},
     "output_type": "execute_result"
    }
   ],
   "source": [
    "li.random.random((7,7))"
   ]
  },
  {
   "cell_type": "code",
   "execution_count": null,
   "id": "c99c05ce",
   "metadata": {},
   "outputs": [],
   "source": []
  }
 ],
 "metadata": {
  "kernelspec": {
   "display_name": "Python 3 (ipykernel)",
   "language": "python",
   "name": "python3"
  },
  "language_info": {
   "codemirror_mode": {
    "name": "ipython",
    "version": 3
   },
   "file_extension": ".py",
   "mimetype": "text/x-python",
   "name": "python",
   "nbconvert_exporter": "python",
   "pygments_lexer": "ipython3",
   "version": "3.10.8"
  }
 },
 "nbformat": 4,
 "nbformat_minor": 5
}
